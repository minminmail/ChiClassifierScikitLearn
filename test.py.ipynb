{
 "cells": [
  {
   "cell_type": "code",
   "execution_count": 78,
   "metadata": {},
   "outputs": [],
   "source": [
    "from  skltemplate import *\n",
    "from  skltemplate.FuzzyChiClassifier import *"
   ]
  },
  {
   "cell_type": "code",
   "execution_count": 79,
   "metadata": {},
   "outputs": [],
   "source": [
    "data_folder = \"C:\\\\pythonAlgorithms\\\\project-template-master\\\\skltemplate\\\\iris\\\\config\"\n",
    "\n",
    "file_to_open = data_folder + \"\\\\config0.txt\""
   ]
  },
  {
   "cell_type": "code",
   "execution_count": 73,
   "metadata": {},
   "outputs": [
    {
     "name": "stdout",
     "output_type": "stream",
     "text": [
      "C:\\pythonAlgorithms\\project-template-master\\skltemplate\\iris\\config\\config0.txt\n"
     ]
    }
   ],
   "source": [
    "print(file_to_open)\n"
   ]
  },
  {
   "cell_type": "code",
   "execution_count": 74,
   "metadata": {},
   "outputs": [
    {
     "data": {
      "text/plain": [
       "<_io.TextIOWrapper name='C:\\\\pythonAlgorithms\\\\project-template-master\\\\skltemplate\\\\iris\\\\config\\\\config0.txt' mode='r' encoding='cp1252'>"
      ]
     },
     "execution_count": 74,
     "metadata": {},
     "output_type": "execute_result"
    }
   ],
   "source": [
    "open(file_to_open)"
   ]
  },
  {
   "cell_type": "code",
   "execution_count": 80,
   "metadata": {},
   "outputs": [],
   "source": [
    "pp=parameter_prepare.parameter_prepare()"
   ]
  },
  {
   "cell_type": "code",
   "execution_count": 82,
   "metadata": {},
   "outputs": [
    {
     "name": "stdout",
     "output_type": "stream",
     "text": [
      "In line 0, the str is:begin ***   algorithm = Chi Fuzzy Weighted Rule Learning Model   ***end\n",
      "In side the readName method the parameter pass is :algorithm = Chi Fuzzy Weighted Rule Learning Model\n",
      "In side the readName method after split =, we get:Chi Fuzzy Weighted Rule Learning Model\n",
      "In line 1, the str is:begin ***   inputData = \"../datasets/iris/iris-10-1tra.dat\" \"../datasets/iris/iris-10-1tra.dat\" \"../datasets/iris/iris-10-1tst.dat\"    ***end\n",
      "Inside the readInputFiles mehtod, we get parameter is:inputData = \"../datasets/iris/iris-10-1tra.dat\" \"../datasets/iris/iris-10-1tra.dat\" \"../datasets/iris/iris-10-1tst.dat\" \n",
      "Inside readInputFiles, line 0,wholeName: inputData\n",
      "Inside readInputFiles, line inputData,fileNameWithStr: inputData\n",
      "Inside readInputFiles, line 0,fileName: inputDat\n",
      "Inside readInputFiles, line 1,wholeName: =\n",
      "Inside readInputFiles, line =,fileNameWithStr: =\n",
      "Inside readInputFiles, line 1,fileName: \n",
      "Inside readInputFiles, line 2,wholeName: \"../datasets/iris/iris-10-1tra.dat\"\n",
      "Inside readInputFiles, line iris-10-1tra.dat\",fileNameWithStr: iris-10-1tra.dat\"\n",
      "Inside readInputFiles, line 2,fileName: iris-10-1tra.dat\n",
      "Inside readInputFiles, line 3,wholeName: \"../datasets/iris/iris-10-1tra.dat\"\n",
      "Inside readInputFiles, line iris-10-1tra.dat\",fileNameWithStr: iris-10-1tra.dat\"\n",
      "Inside readInputFiles, line 3,fileName: iris-10-1tra.dat\n",
      "Inside readInputFiles, line 4,wholeName: \"../datasets/iris/iris-10-1tst.dat\"\n",
      "Inside readInputFiles, line iris-10-1tst.dat\",fileNameWithStr: iris-10-1tst.dat\"\n",
      "Inside readInputFiles, line 4,fileName: iris-10-1tst.dat\n",
      "file_number :3\n",
      "The other remaining Input files number is :0\n",
      "********* Summary for readInputFiles : *********\n",
      "********* The Input training file  is :iris-10-1tra.dat *********\n",
      "********* The Input validation file  is : *********\n",
      "********* The Input test file  is : *********\n",
      "The other remaining Input files number is :0\n",
      "********* Summary for readInputFiles : *********\n",
      "********* The Input training file  is :iris-10-1tra.dat *********\n",
      "********* The Input validation file  is :iris-10-1tra.dat *********\n",
      "********* The Input test file  is : *********\n",
      "The other remaining Input files number is :0\n",
      "********* Summary for readInputFiles : *********\n",
      "********* The Input training file  is :iris-10-1tra.dat *********\n",
      "********* The Input validation file  is :iris-10-1tra.dat *********\n",
      "********* The Input test file  is :iris-10-1tst.dat *********\n",
      "In line 2, the str is:begin ***   outputData = \"../results/Chi-RW-C.iris/result0.tra\" \"../results/Chi-RW-C.iris/result0.tst\" \"../results/Chi-RW-C.iris/result0e0.txt\"  \"../results/Chi-RW-C.iris/result0e1.txt\"     ***end\n",
      "Inside the readInputFiles method, we get parameter is:outputData = \"../results/Chi-RW-C.iris/result0.tra\" \"../results/Chi-RW-C.iris/result0.tst\" \"../results/Chi-RW-C.iris/result0e0.txt\"  \"../results/Chi-RW-C.iris/result0e1.txt\"  \n",
      "Inside readOutputFiles, line 0,wholeName: outputData\n",
      "Inside readOutputFiles, line outputData,fileNameWithStr: outputData\n",
      "Inside readOutputFiles, line 0,fileName: outputDat\n",
      "Inside readOutputFiles, line 1,wholeName: =\n",
      "Inside readOutputFiles, line =,fileNameWithStr: =\n",
      "Inside readOutputFiles, line 1,fileName: \n",
      "Inside readOutputFiles, line 2,wholeName: \"../results/Chi-RW-C.iris/result0.tra\"\n",
      "Inside readOutputFiles, line result0.tra\",fileNameWithStr: result0.tra\"\n",
      "Inside readOutputFiles, line 2,fileName: result0.tra\n",
      "Inside readOutputFiles, line 3,wholeName: \"../results/Chi-RW-C.iris/result0.tst\"\n",
      "Inside readOutputFiles, line result0.tst\",fileNameWithStr: result0.tst\"\n",
      "Inside readOutputFiles, line 3,fileName: result0.tst\n",
      "Inside readOutputFiles, line 4,wholeName: \"../results/Chi-RW-C.iris/result0e0.txt\"\n",
      "Inside readOutputFiles, line result0e0.txt\",fileNameWithStr: result0e0.txt\"\n",
      "Inside readOutputFiles, line 4,fileName: result0e0.txt\n",
      "Inside readOutputFiles, line 5,wholeName: \"../results/Chi-RW-C.iris/result0e1.txt\"\n",
      "Inside readOutputFiles, line result0e1.txt\",fileNameWithStr: result0e1.txt\"\n",
      "Inside readOutputFiles, line 5,fileName: result0e1.txt\n",
      "file_number4\n",
      "********* Summary for readOutputFiles : *********\n",
      "*********  The output training file  is :result0.tra *********\n",
      "*********  The output test file  is :result0.tst *********\n",
      "********* output file is :result0e0.txt *********\n",
      "********* output file is :result0e1.txt *********\n",
      "In line 3, the str is:begin ***      ***end\n",
      "readAllParameters begin,  line is :\n",
      "The parameter key is :\n",
      "The parameter value is :\n",
      "In line 4, the str is:begin ***   Number of Labels = 3   ***end\n",
      "readAllParameters begin,  line is :Number of Labels = 3\n",
      "The parameter key is :Number of Labels \n",
      "The parameter value is : 3\n",
      "In line 5, the str is:begin ***   T-norm for the Computation of the Compatibility Degree = Product   ***end\n",
      "readAllParameters begin,  line is :T-norm for the Computation of the Compatibility Degree = Product\n",
      "The parameter key is :T-norm for the Computation of the Compatibility Degree \n",
      "The parameter value is : Product\n",
      "In line 6, the str is:begin ***   Rule Weight = Penalized_Certainty_Factor   ***end\n",
      "readAllParameters begin,  line is :Rule Weight = Penalized_Certainty_Factor\n",
      "The parameter key is :Rule Weight \n",
      "The parameter value is : Penalized_Certainty_Factor\n",
      "In line 7, the str is:begin ***   Fuzzy Reasoning Method = Winning_Rule   ***end\n",
      "readAllParameters begin,  line is :Fuzzy Reasoning Method = Winning_Rule\n",
      "The parameter key is :Fuzzy Reasoning Method \n",
      "The parameter value is : Winning_Rule\n"
     ]
    }
   ],
   "source": [
    "pp.parse_configuration_file(file_to_open)"
   ]
  },
  {
   "cell_type": "code",
   "execution_count": 36,
   "metadata": {},
   "outputs": [
    {
     "name": "stdout",
     "output_type": "stream",
     "text": [
      "Files in 'C:\\pythonAlgorithms\\project-template-master': ['.circleci', '.coveragerc', '.git', '.gitignore', '.ipynb_checkpoints', '.readthedocs.yml', '.travis.yml', '.vscode', 'appveyor.yml', 'doc', 'enviornment.yml', 'examples', 'LICENSE', 'MANIFEST.in', 'README.rst', 'requirements.txt', 'setup.cfg', 'setup.py', 'skltemplate', 'test.py.ipynb', 'Untitled.ipynb']\n"
     ]
    }
   ],
   "source": [
    "import os\n",
    "\n",
    "cwd = os.getcwd()  # Get the current working directory (cwd)\n",
    "files = os.listdir(cwd)  # Get all the files in that directory\n",
    "print(\"Files in '%s': %s\" % (cwd, files))"
   ]
  },
  {
   "cell_type": "code",
   "execution_count": 40,
   "metadata": {},
   "outputs": [
    {
     "ename": "FileNotFoundError",
     "evalue": "[Errno 2] No such file or directory: 'readthedocs.yml'",
     "output_type": "error",
     "traceback": [
      "\u001b[1;31m---------------------------------------------------------------------------\u001b[0m",
      "\u001b[1;31mFileNotFoundError\u001b[0m                         Traceback (most recent call last)",
      "\u001b[1;32m<ipython-input-40-c7c47461a282>\u001b[0m in \u001b[0;36m<module>\u001b[1;34m\u001b[0m\n\u001b[1;32m----> 1\u001b[1;33m \u001b[0mf\u001b[0m \u001b[1;33m=\u001b[0m \u001b[0mopen\u001b[0m\u001b[1;33m(\u001b[0m\u001b[1;34m\"readthedocs.yml\"\u001b[0m\u001b[1;33m,\u001b[0m\u001b[1;34m\"r\"\u001b[0m\u001b[1;33m)\u001b[0m\u001b[1;33m\u001b[0m\u001b[1;33m\u001b[0m\u001b[0m\n\u001b[0m",
      "\u001b[1;31mFileNotFoundError\u001b[0m: [Errno 2] No such file or directory: 'readthedocs.yml'"
     ]
    }
   ],
   "source": []
  },
  {
   "cell_type": "code",
   "execution_count": 83,
   "metadata": {},
   "outputs": [
    {
     "ename": "AttributeError",
     "evalue": "'parameter_prepare' object has no attribute 'nLabels'",
     "output_type": "error",
     "traceback": [
      "\u001b[1;31m---------------------------------------------------------------------------\u001b[0m",
      "\u001b[1;31mAttributeError\u001b[0m                            Traceback (most recent call last)",
      "\u001b[1;32m<ipython-input-83-0a481022293c>\u001b[0m in \u001b[0;36m<module>\u001b[1;34m\u001b[0m\n\u001b[1;32m----> 1\u001b[1;33m \u001b[0mfc\u001b[0m \u001b[1;33m=\u001b[0m \u001b[0mFuzzyChiClassifier\u001b[0m\u001b[1;33m(\u001b[0m\u001b[0mpp\u001b[0m\u001b[1;33m.\u001b[0m\u001b[0mnLabels\u001b[0m\u001b[1;33m,\u001b[0m\u001b[0mpp\u001b[0m\u001b[1;33m.\u001b[0m\u001b[0mcombination_type\u001b[0m\u001b[1;33m,\u001b[0m\u001b[0mpp\u001b[0m\u001b[1;33m.\u001b[0m\u001b[0mrule_weight\u001b[0m\u001b[1;33m,\u001b[0m\u001b[0mpp\u001b[0m\u001b[1;33m.\u001b[0m\u001b[0minference_type\u001b[0m\u001b[1;33m,\u001b[0m\u001b[0mranges\u001b[0m\u001b[1;33m,\u001b[0m\u001b[0mpp\u001b[0m\u001b[1;33m.\u001b[0m\u001b[0mtrain_dataSet\u001b[0m\u001b[1;33m)\u001b[0m\u001b[1;33m\u001b[0m\u001b[1;33m\u001b[0m\u001b[0m\n\u001b[0m",
      "\u001b[1;31mAttributeError\u001b[0m: 'parameter_prepare' object has no attribute 'nLabels'"
     ]
    }
   ],
   "source": [
    "fc = FuzzyChiClassifier(pp.nLabels,pp.combination_type,pp.rule_weight,pp.inference_type,ranges,pp.train_dataSet)"
   ]
  },
  {
   "cell_type": "code",
   "execution_count": 76,
   "metadata": {},
   "outputs": [],
   "source": []
  },
  {
   "cell_type": "code",
   "execution_count": null,
   "metadata": {},
   "outputs": [],
   "source": []
  }
 ],
 "metadata": {
  "kernelspec": {
   "display_name": "Python 3",
   "language": "python",
   "name": "python3"
  },
  "language_info": {
   "codemirror_mode": {
    "name": "ipython",
    "version": 3
   },
   "file_extension": ".py",
   "mimetype": "text/x-python",
   "name": "python",
   "nbconvert_exporter": "python",
   "pygments_lexer": "ipython3",
   "version": "3.7.2"
  }
 },
 "nbformat": 4,
 "nbformat_minor": 2
}
